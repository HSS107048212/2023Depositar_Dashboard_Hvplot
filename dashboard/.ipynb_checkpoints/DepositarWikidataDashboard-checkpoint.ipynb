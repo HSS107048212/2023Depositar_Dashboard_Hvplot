{
 "cells": [
  {
   "cell_type": "code",
   "execution_count": 53,
   "id": "3e568dee-d48f-4757-927b-7e07e27494ef",
   "metadata": {},
   "outputs": [],
   "source": [
    "import pandas as pd\n",
    "import numpy as np\n",
    "import panel as pn\n",
    "pn.extension('tabulator')\n",
    "\n",
    "import hvplot.pandas"
   ]
  },
  {
   "cell_type": "code",
   "execution_count": 54,
   "id": "0ac6b2f5-bc31-4834-9fca-03c0e910f2dc",
   "metadata": {},
   "outputs": [
    {
     "data": {
      "text/html": [
       "<div>\n",
       "<style scoped>\n",
       "    .dataframe tbody tr th:only-of-type {\n",
       "        vertical-align: middle;\n",
       "    }\n",
       "\n",
       "    .dataframe tbody tr th {\n",
       "        vertical-align: top;\n",
       "    }\n",
       "\n",
       "    .dataframe thead th {\n",
       "        text-align: right;\n",
       "    }\n",
       "</style>\n",
       "<table border=\"1\" class=\"dataframe\">\n",
       "  <thead>\n",
       "    <tr style=\"text-align: right;\">\n",
       "      <th></th>\n",
       "      <th>Title</th>\n",
       "      <th>Creator</th>\n",
       "      <th>Last_modified</th>\n",
       "      <th>Len_Items</th>\n",
       "      <th>Items</th>\n",
       "    </tr>\n",
       "  </thead>\n",
       "  <tbody>\n",
       "    <tr>\n",
       "      <th>0</th>\n",
       "      <td>溫寮溪道路工程(平面道路工區1、堤防道路、橋樑工區1、平面道路工區2、平面道路工區4)施工階...</td>\n",
       "      <td>dbf82753-0564-4ca2-a855-fa81cb5615d1</td>\n",
       "      <td>2023</td>\n",
       "      <td>0</td>\n",
       "      <td>[]</td>\n",
       "    </tr>\n",
       "    <tr>\n",
       "      <th>1</th>\n",
       "      <td>2023-08-05 Nanshan Gravesite Panoramic Images ...</td>\n",
       "      <td>f7aeffb6-f8b4-457e-be70-7dd1075aac38</td>\n",
       "      <td>2023</td>\n",
       "      <td>6</td>\n",
       "      <td>['Q64481569', 'Q1129474', 'Q39614', 'Q22502', ...</td>\n",
       "    </tr>\n",
       "    <tr>\n",
       "      <th>2</th>\n",
       "      <td>2023-08-05 Nanshan Gravesite Images -- Sony ZV...</td>\n",
       "      <td>f7aeffb6-f8b4-457e-be70-7dd1075aac38</td>\n",
       "      <td>2023</td>\n",
       "      <td>6</td>\n",
       "      <td>['Q64481569', 'Q1129474', 'Q39614', 'Q22502', ...</td>\n",
       "    </tr>\n",
       "    <tr>\n",
       "      <th>3</th>\n",
       "      <td>三姓溪排水(河心累距0K+760~0K+800)護岸改善應急工程</td>\n",
       "      <td>dbf82753-0564-4ca2-a855-fa81cb5615d1</td>\n",
       "      <td>2023</td>\n",
       "      <td>0</td>\n",
       "      <td>[]</td>\n",
       "    </tr>\n",
       "    <tr>\n",
       "      <th>4</th>\n",
       "      <td>高雄市太爺親水運動公園新建計畫</td>\n",
       "      <td>8bfa12af-2191-4f10-bce5-b9527033ea20</td>\n",
       "      <td>2023</td>\n",
       "      <td>0</td>\n",
       "      <td>[]</td>\n",
       "    </tr>\n",
       "    <tr>\n",
       "      <th>...</th>\n",
       "      <td>...</td>\n",
       "      <td>...</td>\n",
       "      <td>...</td>\n",
       "      <td>...</td>\n",
       "      <td>...</td>\n",
       "    </tr>\n",
       "    <tr>\n",
       "      <th>1834</th>\n",
       "      <td>從龍華教到佛教--光復前臺南德化堂的歷史</td>\n",
       "      <td>cf7b109b-8906-422a-9f86-b538f9f0a890</td>\n",
       "      <td>2020</td>\n",
       "      <td>1</td>\n",
       "      <td>['Q706699']</td>\n",
       "    </tr>\n",
       "    <tr>\n",
       "      <th>1835</th>\n",
       "      <td>略論日據時期的臺南開元寺</td>\n",
       "      <td>cf7b109b-8906-422a-9f86-b538f9f0a890</td>\n",
       "      <td>2020</td>\n",
       "      <td>1</td>\n",
       "      <td>['Q710206']</td>\n",
       "    </tr>\n",
       "    <tr>\n",
       "      <th>1836</th>\n",
       "      <td>地下水流模型(M值)</td>\n",
       "      <td>9672fd2a-e22b-48ae-b149-6cfada3fd129</td>\n",
       "      <td>2020</td>\n",
       "      <td>1</td>\n",
       "      <td>['Q140631']</td>\n",
       "    </tr>\n",
       "    <tr>\n",
       "      <th>1837</th>\n",
       "      <td>台江內海書目整理-2014.03.22</td>\n",
       "      <td>9672fd2a-e22b-48ae-b149-6cfada3fd129</td>\n",
       "      <td>2020</td>\n",
       "      <td>1</td>\n",
       "      <td>['Q708677']</td>\n",
       "    </tr>\n",
       "    <tr>\n",
       "      <th>1838</th>\n",
       "      <td>老街溪斷面46-1至46堤防改善工程</td>\n",
       "      <td>1ed1c2b8-33de-4772-a2b8-c80a4f64f416</td>\n",
       "      <td>2019</td>\n",
       "      <td>0</td>\n",
       "      <td>[]</td>\n",
       "    </tr>\n",
       "  </tbody>\n",
       "</table>\n",
       "<p>1839 rows × 5 columns</p>\n",
       "</div>"
      ],
      "text/plain": [
       "                                                  Title  \\\n",
       "0     溫寮溪道路工程(平面道路工區1、堤防道路、橋樑工區1、平面道路工區2、平面道路工區4)施工階...   \n",
       "1     2023-08-05 Nanshan Gravesite Panoramic Images ...   \n",
       "2     2023-08-05 Nanshan Gravesite Images -- Sony ZV...   \n",
       "3                      三姓溪排水(河心累距0K+760~0K+800)護岸改善應急工程   \n",
       "4                                       高雄市太爺親水運動公園新建計畫   \n",
       "...                                                 ...   \n",
       "1834                               從龍華教到佛教--光復前臺南德化堂的歷史   \n",
       "1835                                       略論日據時期的臺南開元寺   \n",
       "1836                                         地下水流模型(M值)   \n",
       "1837                                台江內海書目整理-2014.03.22   \n",
       "1838                                 老街溪斷面46-1至46堤防改善工程   \n",
       "\n",
       "                                   Creator  Last_modified  Len_Items  \\\n",
       "0     dbf82753-0564-4ca2-a855-fa81cb5615d1           2023          0   \n",
       "1     f7aeffb6-f8b4-457e-be70-7dd1075aac38           2023          6   \n",
       "2     f7aeffb6-f8b4-457e-be70-7dd1075aac38           2023          6   \n",
       "3     dbf82753-0564-4ca2-a855-fa81cb5615d1           2023          0   \n",
       "4     8bfa12af-2191-4f10-bce5-b9527033ea20           2023          0   \n",
       "...                                    ...            ...        ...   \n",
       "1834  cf7b109b-8906-422a-9f86-b538f9f0a890           2020          1   \n",
       "1835  cf7b109b-8906-422a-9f86-b538f9f0a890           2020          1   \n",
       "1836  9672fd2a-e22b-48ae-b149-6cfada3fd129           2020          1   \n",
       "1837  9672fd2a-e22b-48ae-b149-6cfada3fd129           2020          1   \n",
       "1838  1ed1c2b8-33de-4772-a2b8-c80a4f64f416           2019          0   \n",
       "\n",
       "                                                  Items  \n",
       "0                                                    []  \n",
       "1     ['Q64481569', 'Q1129474', 'Q39614', 'Q22502', ...  \n",
       "2     ['Q64481569', 'Q1129474', 'Q39614', 'Q22502', ...  \n",
       "3                                                    []  \n",
       "4                                                    []  \n",
       "...                                                 ...  \n",
       "1834                                        ['Q706699']  \n",
       "1835                                        ['Q710206']  \n",
       "1836                                        ['Q140631']  \n",
       "1837                                        ['Q708677']  \n",
       "1838                                                 []  \n",
       "\n",
       "[1839 rows x 5 columns]"
      ]
     },
     "execution_count": 54,
     "metadata": {},
     "output_type": "execute_result"
    }
   ],
   "source": [
    "df = pd.read_excel('Dashboard_input.xlsx')\n",
    "df"
   ]
  },
  {
   "cell_type": "code",
   "execution_count": 55,
   "id": "5e60edef-3249-46b2-a01d-f9549edd5ff2",
   "metadata": {},
   "outputs": [],
   "source": [
    "# Make DataFrame Pipeline Interactive\n",
    "df = df.fillna(0)\n",
    "idf = df.interactive()"
   ]
  },
  {
   "cell_type": "code",
   "execution_count": 56,
   "id": "2644ae93-2e6b-44c0-aa7f-52fc5fa5b82a",
   "metadata": {},
   "outputs": [
    {
     "data": {},
     "metadata": {},
     "output_type": "display_data"
    },
    {
     "data": {
      "application/vnd.holoviews_exec.v0+json": "",
      "text/html": [
       "<div id='2948'>\n",
       "  <div class=\"bk-root\" id=\"bb1006ad-f038-4c58-92fc-d56a91925c8a\" data-root-id=\"2948\"></div>\n",
       "</div>\n",
       "<script type=\"application/javascript\">(function(root) {\n",
       "  function embed_document(root) {\n",
       "    var docs_json = {\"200372e3-db16-44de-b8a9-35edcb2956d7\":{\"defs\":[{\"extends\":null,\"module\":null,\"name\":\"ReactiveHTML1\",\"overrides\":[],\"properties\":[]},{\"extends\":null,\"module\":null,\"name\":\"FlexBox1\",\"overrides\":[],\"properties\":[{\"default\":\"flex-start\",\"kind\":null,\"name\":\"align_content\"},{\"default\":\"flex-start\",\"kind\":null,\"name\":\"align_items\"},{\"default\":\"row\",\"kind\":null,\"name\":\"flex_direction\"},{\"default\":\"wrap\",\"kind\":null,\"name\":\"flex_wrap\"},{\"default\":\"flex-start\",\"kind\":null,\"name\":\"justify_content\"}]},{\"extends\":null,\"module\":null,\"name\":\"GridStack1\",\"overrides\":[],\"properties\":[{\"default\":\"warn\",\"kind\":null,\"name\":\"mode\"},{\"default\":null,\"kind\":null,\"name\":\"ncols\"},{\"default\":null,\"kind\":null,\"name\":\"nrows\"},{\"default\":true,\"kind\":null,\"name\":\"allow_resize\"},{\"default\":true,\"kind\":null,\"name\":\"allow_drag\"},{\"default\":[],\"kind\":null,\"name\":\"state\"}]},{\"extends\":null,\"module\":null,\"name\":\"click1\",\"overrides\":[],\"properties\":[{\"default\":\"\",\"kind\":null,\"name\":\"terminal_output\"},{\"default\":\"\",\"kind\":null,\"name\":\"debug_name\"},{\"default\":0,\"kind\":null,\"name\":\"clears\"}]},{\"extends\":null,\"module\":null,\"name\":\"NotificationAreaBase1\",\"overrides\":[],\"properties\":[{\"default\":\"bottom-right\",\"kind\":null,\"name\":\"position\"},{\"default\":0,\"kind\":null,\"name\":\"_clear\"}]},{\"extends\":null,\"module\":null,\"name\":\"NotificationArea1\",\"overrides\":[],\"properties\":[{\"default\":[],\"kind\":null,\"name\":\"notifications\"},{\"default\":\"bottom-right\",\"kind\":null,\"name\":\"position\"},{\"default\":0,\"kind\":null,\"name\":\"_clear\"},{\"default\":[{\"background\":\"#ffc107\",\"icon\":{\"className\":\"fas fa-exclamation-triangle\",\"color\":\"white\",\"tagName\":\"i\"},\"type\":\"warning\"},{\"background\":\"#007bff\",\"icon\":{\"className\":\"fas fa-info-circle\",\"color\":\"white\",\"tagName\":\"i\"},\"type\":\"info\"}],\"kind\":null,\"name\":\"types\"}]},{\"extends\":null,\"module\":null,\"name\":\"Notification\",\"overrides\":[],\"properties\":[{\"default\":null,\"kind\":null,\"name\":\"background\"},{\"default\":3000,\"kind\":null,\"name\":\"duration\"},{\"default\":null,\"kind\":null,\"name\":\"icon\"},{\"default\":\"\",\"kind\":null,\"name\":\"message\"},{\"default\":null,\"kind\":null,\"name\":\"notification_type\"},{\"default\":false,\"kind\":null,\"name\":\"_destroyed\"}]},{\"extends\":null,\"module\":null,\"name\":\"TemplateActions1\",\"overrides\":[],\"properties\":[{\"default\":0,\"kind\":null,\"name\":\"open_modal\"},{\"default\":0,\"kind\":null,\"name\":\"close_modal\"}]},{\"extends\":null,\"module\":null,\"name\":\"MaterialTemplateActions1\",\"overrides\":[],\"properties\":[{\"default\":0,\"kind\":null,\"name\":\"open_modal\"},{\"default\":0,\"kind\":null,\"name\":\"close_modal\"}]}],\"roots\":{\"references\":[{\"attributes\":{\"client_comm_id\":\"0a02f92439724cd78a90fe129f644dd2\",\"comm_id\":\"6cdcc15c5c474eada12f83d778660f82\",\"plot_id\":\"2948\"},\"id\":\"2949\",\"type\":\"panel.models.comm_manager.CommManager\"},{\"attributes\":{\"end\":2023,\"margin\":[5,10,5,10],\"start\":2019,\"title\":\"Year slider\",\"value\":2020},\"id\":\"2948\",\"type\":\"Slider\"}],\"root_ids\":[\"2948\",\"2949\"]},\"title\":\"Bokeh Application\",\"version\":\"2.4.3\"}};\n",
       "    var render_items = [{\"docid\":\"200372e3-db16-44de-b8a9-35edcb2956d7\",\"root_ids\":[\"2948\"],\"roots\":{\"2948\":\"bb1006ad-f038-4c58-92fc-d56a91925c8a\"}}];\n",
       "    root.Bokeh.embed.embed_items_notebook(docs_json, render_items);\n",
       "  }\n",
       "  if (root.Bokeh !== undefined && root.Bokeh.Panel !== undefined && ( root['Tabulator'] !== undefined) && ( root['Tabulator'] !== undefined) && ( root['Tabulator'] !== undefined)) {\n",
       "    embed_document(root);\n",
       "  } else {\n",
       "    var attempts = 0;\n",
       "    var timer = setInterval(function(root) {\n",
       "      if (root.Bokeh !== undefined && root.Bokeh.Panel !== undefined && (root['Tabulator'] !== undefined) && (root['Tabulator'] !== undefined) && (root['Tabulator'] !== undefined)) {\n",
       "        clearInterval(timer);\n",
       "        embed_document(root);\n",
       "      } else if (document.readyState == \"complete\") {\n",
       "        attempts++;\n",
       "        if (attempts > 200) {\n",
       "          clearInterval(timer);\n",
       "          console.log(\"Bokeh: ERROR: Unable to run BokehJS code because BokehJS library is missing\");\n",
       "        }\n",
       "      }\n",
       "    }, 25, root)\n",
       "  }\n",
       "})(window);</script>"
      ],
      "text/plain": [
       "IntSlider(end=2023, name='Year slider', start=2019, value=2020)"
      ]
     },
     "execution_count": 56,
     "metadata": {
      "application/vnd.holoviews_exec.v0+json": {
       "id": "2948"
      }
     },
     "output_type": "execute_result"
    }
   ],
   "source": [
    "# Define Panel widgets\n",
    "year_start=df[\"Last_modified\"].min()\n",
    "year_last=df[\"Last_modified\"].max()\n",
    "year_slider = pn.widgets.IntSlider(name='Year slider', start=year_start, end=year_last, step=1, value=year_start+1)\n",
    "year_slider"
   ]
  },
  {
   "cell_type": "code",
   "execution_count": 57,
   "id": "c0562b58-72e7-4402-bbc9-1722789f3894",
   "metadata": {},
   "outputs": [
    {
     "data": {},
     "metadata": {},
     "output_type": "display_data"
    },
    {
     "data": {
      "application/vnd.holoviews_exec.v0+json": "",
      "text/html": [
       "<div id='2950'>\n",
       "  <div class=\"bk-root\" id=\"5de8229a-d4e7-4ea5-b6ac-b8c95bd954c5\" data-root-id=\"2950\"></div>\n",
       "</div>\n",
       "<script type=\"application/javascript\">(function(root) {\n",
       "  function embed_document(root) {\n",
       "    var docs_json = {\"ffe11c24-fc6c-49ee-9f2f-5c6fec7ce8e6\":{\"defs\":[{\"extends\":null,\"module\":null,\"name\":\"ReactiveHTML1\",\"overrides\":[],\"properties\":[]},{\"extends\":null,\"module\":null,\"name\":\"FlexBox1\",\"overrides\":[],\"properties\":[{\"default\":\"flex-start\",\"kind\":null,\"name\":\"align_content\"},{\"default\":\"flex-start\",\"kind\":null,\"name\":\"align_items\"},{\"default\":\"row\",\"kind\":null,\"name\":\"flex_direction\"},{\"default\":\"wrap\",\"kind\":null,\"name\":\"flex_wrap\"},{\"default\":\"flex-start\",\"kind\":null,\"name\":\"justify_content\"}]},{\"extends\":null,\"module\":null,\"name\":\"GridStack1\",\"overrides\":[],\"properties\":[{\"default\":\"warn\",\"kind\":null,\"name\":\"mode\"},{\"default\":null,\"kind\":null,\"name\":\"ncols\"},{\"default\":null,\"kind\":null,\"name\":\"nrows\"},{\"default\":true,\"kind\":null,\"name\":\"allow_resize\"},{\"default\":true,\"kind\":null,\"name\":\"allow_drag\"},{\"default\":[],\"kind\":null,\"name\":\"state\"}]},{\"extends\":null,\"module\":null,\"name\":\"click1\",\"overrides\":[],\"properties\":[{\"default\":\"\",\"kind\":null,\"name\":\"terminal_output\"},{\"default\":\"\",\"kind\":null,\"name\":\"debug_name\"},{\"default\":0,\"kind\":null,\"name\":\"clears\"}]},{\"extends\":null,\"module\":null,\"name\":\"NotificationAreaBase1\",\"overrides\":[],\"properties\":[{\"default\":\"bottom-right\",\"kind\":null,\"name\":\"position\"},{\"default\":0,\"kind\":null,\"name\":\"_clear\"}]},{\"extends\":null,\"module\":null,\"name\":\"NotificationArea1\",\"overrides\":[],\"properties\":[{\"default\":[],\"kind\":null,\"name\":\"notifications\"},{\"default\":\"bottom-right\",\"kind\":null,\"name\":\"position\"},{\"default\":0,\"kind\":null,\"name\":\"_clear\"},{\"default\":[{\"background\":\"#ffc107\",\"icon\":{\"className\":\"fas fa-exclamation-triangle\",\"color\":\"white\",\"tagName\":\"i\"},\"type\":\"warning\"},{\"background\":\"#007bff\",\"icon\":{\"className\":\"fas fa-info-circle\",\"color\":\"white\",\"tagName\":\"i\"},\"type\":\"info\"}],\"kind\":null,\"name\":\"types\"}]},{\"extends\":null,\"module\":null,\"name\":\"Notification\",\"overrides\":[],\"properties\":[{\"default\":null,\"kind\":null,\"name\":\"background\"},{\"default\":3000,\"kind\":null,\"name\":\"duration\"},{\"default\":null,\"kind\":null,\"name\":\"icon\"},{\"default\":\"\",\"kind\":null,\"name\":\"message\"},{\"default\":null,\"kind\":null,\"name\":\"notification_type\"},{\"default\":false,\"kind\":null,\"name\":\"_destroyed\"}]},{\"extends\":null,\"module\":null,\"name\":\"TemplateActions1\",\"overrides\":[],\"properties\":[{\"default\":0,\"kind\":null,\"name\":\"open_modal\"},{\"default\":0,\"kind\":null,\"name\":\"close_modal\"}]},{\"extends\":null,\"module\":null,\"name\":\"MaterialTemplateActions1\",\"overrides\":[],\"properties\":[{\"default\":0,\"kind\":null,\"name\":\"open_modal\"},{\"default\":0,\"kind\":null,\"name\":\"close_modal\"}]}],\"roots\":{\"references\":[{\"attributes\":{\"children\":[{\"id\":\"2957\"}],\"margin\":[0,0,0,0],\"name\":\"Row04666\"},\"id\":\"2956\",\"type\":\"Row\"},{\"attributes\":{\"children\":[{\"id\":\"2951\"}],\"margin\":[0,0,0,0],\"name\":\"Row04687\"},\"id\":\"2950\",\"type\":\"Row\"},{\"attributes\":{\"client_comm_id\":\"7c36c7d5b3054602823eef3c76fcaf6e\",\"comm_id\":\"3e65e8f16a224b06b2fb704f11631cbe\",\"plot_id\":\"2950\"},\"id\":\"2958\",\"type\":\"panel.models.comm_manager.CommManager\"},{\"attributes\":{\"children\":[{\"id\":\"2952\"},{\"id\":\"2956\"}],\"margin\":[0,0,0,0],\"name\":\"Column04686\"},\"id\":\"2951\",\"type\":\"Column\"},{\"attributes\":{\"margin\":[5,5,5,5],\"name\":\"HSpacer04684\",\"sizing_mode\":\"stretch_width\"},\"id\":\"2955\",\"type\":\"Spacer\"},{\"attributes\":{\"children\":[{\"id\":\"2953\"},{\"id\":\"2955\"}],\"margin\":[0,0,0,0],\"name\":\"Row04685\"},\"id\":\"2952\",\"type\":\"Row\"},{\"attributes\":{\"margin\":[5,5,5,5],\"name\":\"DataFrame04682\",\"text\":\"&lt;table border=&quot;0&quot; class=&quot;dataframe panel-df&quot;&gt;\\n  &lt;thead&gt;\\n    &lt;tr style=&quot;text-align: right;&quot;&gt;\\n      &lt;th&gt;&lt;/th&gt;\\n      &lt;th&gt;Len_Items&lt;/th&gt;\\n      &lt;th&gt;Count&lt;/th&gt;\\n    &lt;/tr&gt;\\n  &lt;/thead&gt;\\n  &lt;tbody&gt;\\n    &lt;tr&gt;\\n      &lt;th&gt;0&lt;/th&gt;\\n      &lt;td&gt;0&lt;/td&gt;\\n      &lt;td&gt;378&lt;/td&gt;\\n    &lt;/tr&gt;\\n    &lt;tr&gt;\\n      &lt;th&gt;1&lt;/th&gt;\\n      &lt;td&gt;1&lt;/td&gt;\\n      &lt;td&gt;109&lt;/td&gt;\\n    &lt;/tr&gt;\\n    &lt;tr&gt;\\n      &lt;th&gt;2&lt;/th&gt;\\n      &lt;td&gt;2&lt;/td&gt;\\n      &lt;td&gt;33&lt;/td&gt;\\n    &lt;/tr&gt;\\n    &lt;tr&gt;\\n      &lt;th&gt;3&lt;/th&gt;\\n      &lt;td&gt;3&lt;/td&gt;\\n      &lt;td&gt;23&lt;/td&gt;\\n    &lt;/tr&gt;\\n    &lt;tr&gt;\\n      &lt;th&gt;4&lt;/th&gt;\\n      &lt;td&gt;4&lt;/td&gt;\\n      &lt;td&gt;7&lt;/td&gt;\\n    &lt;/tr&gt;\\n    &lt;tr&gt;\\n      &lt;th&gt;5&lt;/th&gt;\\n      &lt;td&gt;5&lt;/td&gt;\\n      &lt;td&gt;18&lt;/td&gt;\\n    &lt;/tr&gt;\\n    &lt;tr&gt;\\n      &lt;th&gt;6&lt;/th&gt;\\n      &lt;td&gt;6&lt;/td&gt;\\n      &lt;td&gt;8&lt;/td&gt;\\n    &lt;/tr&gt;\\n    &lt;tr&gt;\\n      &lt;th&gt;7&lt;/th&gt;\\n      &lt;td&gt;7&lt;/td&gt;\\n      &lt;td&gt;1&lt;/td&gt;\\n    &lt;/tr&gt;\\n  &lt;/tbody&gt;\\n&lt;/table&gt;\"},\"id\":\"2957\",\"type\":\"panel.models.markup.HTML\"},{\"attributes\":{\"end\":2023,\"margin\":[5,10,5,10],\"start\":2019,\"title\":\"Year slider\",\"value\":2020},\"id\":\"2954\",\"type\":\"Slider\"},{\"attributes\":{\"children\":[{\"id\":\"2954\"}],\"margin\":[0,0,0,0],\"name\":\"Column04661\"},\"id\":\"2953\",\"type\":\"Column\"}],\"root_ids\":[\"2950\",\"2958\"]},\"title\":\"Bokeh Application\",\"version\":\"2.4.3\"}};\n",
       "    var render_items = [{\"docid\":\"ffe11c24-fc6c-49ee-9f2f-5c6fec7ce8e6\",\"root_ids\":[\"2950\"],\"roots\":{\"2950\":\"5de8229a-d4e7-4ea5-b6ac-b8c95bd954c5\"}}];\n",
       "    root.Bokeh.embed.embed_items_notebook(docs_json, render_items);\n",
       "  }\n",
       "  if (root.Bokeh !== undefined && root.Bokeh.Panel !== undefined && ( root['Tabulator'] !== undefined) && ( root['Tabulator'] !== undefined) && ( root['Tabulator'] !== undefined)) {\n",
       "    embed_document(root);\n",
       "  } else {\n",
       "    var attempts = 0;\n",
       "    var timer = setInterval(function(root) {\n",
       "      if (root.Bokeh !== undefined && root.Bokeh.Panel !== undefined && (root['Tabulator'] !== undefined) && (root['Tabulator'] !== undefined) && (root['Tabulator'] !== undefined)) {\n",
       "        clearInterval(timer);\n",
       "        embed_document(root);\n",
       "      } else if (document.readyState == \"complete\") {\n",
       "        attempts++;\n",
       "        if (attempts > 200) {\n",
       "          clearInterval(timer);\n",
       "          console.log(\"Bokeh: ERROR: Unable to run BokehJS code because BokehJS library is missing\");\n",
       "        }\n",
       "      }\n",
       "    }, 25, root)\n",
       "  }\n",
       "})(window);</script>"
      ],
      "text/plain": [
       "<hvplot.interactive.Interactive at 0x7fad98eb4880>"
      ]
     },
     "execution_count": 57,
     "metadata": {
      "application/vnd.holoviews_exec.v0+json": {
       "id": "2950"
      }
     },
     "output_type": "execute_result"
    }
   ],
   "source": [
    "\n",
    "bar_pipeline = (\n",
    "    idf[\n",
    "        (idf.Last_modified <= year_slider)\n",
    "    ]\n",
    "    .groupby('Len_Items')\n",
    "    .size()  # 使用 size() 方法计算每个分组的数量\n",
    "    .reset_index(name='Count')  # 为计数列设置一个新的列名\n",
    "    .sort_values(by='Len_Items')\n",
    "    .reset_index(drop=True)\n",
    ")\n",
    "bar_pipeline\n"
   ]
  },
  {
   "cell_type": "code",
   "execution_count": 58,
   "id": "d9982cb4-1744-4a5b-adfd-b0042c91f808",
   "metadata": {},
   "outputs": [
    {
     "data": {},
     "metadata": {},
     "output_type": "display_data"
    },
    {
     "data": {},
     "metadata": {},
     "output_type": "display_data"
    },
    {
     "data": {
      "application/vnd.holoviews_exec.v0+json": "",
      "text/html": [
       "<div id='2959'>\n",
       "  <div class=\"bk-root\" id=\"6b80d747-a5e4-46e5-9038-5d360b71ae0f\" data-root-id=\"2959\"></div>\n",
       "</div>\n",
       "<script type=\"application/javascript\">(function(root) {\n",
       "  function embed_document(root) {\n",
       "    var docs_json = {\"bc97198d-3a18-4ca3-a710-01429daeacb9\":{\"defs\":[{\"extends\":null,\"module\":null,\"name\":\"ReactiveHTML1\",\"overrides\":[],\"properties\":[]},{\"extends\":null,\"module\":null,\"name\":\"FlexBox1\",\"overrides\":[],\"properties\":[{\"default\":\"flex-start\",\"kind\":null,\"name\":\"align_content\"},{\"default\":\"flex-start\",\"kind\":null,\"name\":\"align_items\"},{\"default\":\"row\",\"kind\":null,\"name\":\"flex_direction\"},{\"default\":\"wrap\",\"kind\":null,\"name\":\"flex_wrap\"},{\"default\":\"flex-start\",\"kind\":null,\"name\":\"justify_content\"}]},{\"extends\":null,\"module\":null,\"name\":\"GridStack1\",\"overrides\":[],\"properties\":[{\"default\":\"warn\",\"kind\":null,\"name\":\"mode\"},{\"default\":null,\"kind\":null,\"name\":\"ncols\"},{\"default\":null,\"kind\":null,\"name\":\"nrows\"},{\"default\":true,\"kind\":null,\"name\":\"allow_resize\"},{\"default\":true,\"kind\":null,\"name\":\"allow_drag\"},{\"default\":[],\"kind\":null,\"name\":\"state\"}]},{\"extends\":null,\"module\":null,\"name\":\"click1\",\"overrides\":[],\"properties\":[{\"default\":\"\",\"kind\":null,\"name\":\"terminal_output\"},{\"default\":\"\",\"kind\":null,\"name\":\"debug_name\"},{\"default\":0,\"kind\":null,\"name\":\"clears\"}]},{\"extends\":null,\"module\":null,\"name\":\"NotificationAreaBase1\",\"overrides\":[],\"properties\":[{\"default\":\"bottom-right\",\"kind\":null,\"name\":\"position\"},{\"default\":0,\"kind\":null,\"name\":\"_clear\"}]},{\"extends\":null,\"module\":null,\"name\":\"NotificationArea1\",\"overrides\":[],\"properties\":[{\"default\":[],\"kind\":null,\"name\":\"notifications\"},{\"default\":\"bottom-right\",\"kind\":null,\"name\":\"position\"},{\"default\":0,\"kind\":null,\"name\":\"_clear\"},{\"default\":[{\"background\":\"#ffc107\",\"icon\":{\"className\":\"fas fa-exclamation-triangle\",\"color\":\"white\",\"tagName\":\"i\"},\"type\":\"warning\"},{\"background\":\"#007bff\",\"icon\":{\"className\":\"fas fa-info-circle\",\"color\":\"white\",\"tagName\":\"i\"},\"type\":\"info\"}],\"kind\":null,\"name\":\"types\"}]},{\"extends\":null,\"module\":null,\"name\":\"Notification\",\"overrides\":[],\"properties\":[{\"default\":null,\"kind\":null,\"name\":\"background\"},{\"default\":3000,\"kind\":null,\"name\":\"duration\"},{\"default\":null,\"kind\":null,\"name\":\"icon\"},{\"default\":\"\",\"kind\":null,\"name\":\"message\"},{\"default\":null,\"kind\":null,\"name\":\"notification_type\"},{\"default\":false,\"kind\":null,\"name\":\"_destroyed\"}]},{\"extends\":null,\"module\":null,\"name\":\"TemplateActions1\",\"overrides\":[],\"properties\":[{\"default\":0,\"kind\":null,\"name\":\"open_modal\"},{\"default\":0,\"kind\":null,\"name\":\"close_modal\"}]},{\"extends\":null,\"module\":null,\"name\":\"MaterialTemplateActions1\",\"overrides\":[],\"properties\":[{\"default\":0,\"kind\":null,\"name\":\"open_modal\"},{\"default\":0,\"kind\":null,\"name\":\"close_modal\"}]}],\"roots\":{\"references\":[{\"attributes\":{\"children\":[{\"id\":\"2962\"},{\"id\":\"2964\"}],\"margin\":[0,0,0,0],\"name\":\"Row04907\"},\"id\":\"2961\",\"type\":\"Row\"},{\"attributes\":{\"bottom_units\":\"screen\",\"coordinates\":null,\"fill_alpha\":0.5,\"fill_color\":\"lightgrey\",\"group\":null,\"left_units\":\"screen\",\"level\":\"overlay\",\"line_alpha\":1.0,\"line_color\":\"black\",\"line_dash\":[4,4],\"line_width\":2,\"right_units\":\"screen\",\"syncable\":false,\"top_units\":\"screen\"},\"id\":\"2990\",\"type\":\"BoxAnnotation\"},{\"attributes\":{\"callback\":null,\"renderers\":[{\"id\":\"3004\"}],\"tags\":[\"hv_created\"],\"tooltips\":[[\"Len_Items\",\"@{Len_Items}\"],[\"Count\",\"@{Count}\"]]},\"id\":\"2968\",\"type\":\"HoverTool\"},{\"attributes\":{\"margin\":[5,5,5,5],\"name\":\"HSpacer04906\",\"sizing_mode\":\"stretch_width\"},\"id\":\"2964\",\"type\":\"Spacer\"},{\"attributes\":{},\"id\":\"2974\",\"type\":\"CategoricalScale\"},{\"attributes\":{},\"id\":\"3009\",\"type\":\"AllLabels\"},{\"attributes\":{},\"id\":\"2989\",\"type\":\"ResetTool\"},{\"attributes\":{\"fill_alpha\":{\"value\":0.1},\"fill_color\":{\"value\":\"#30a2da\"},\"hatch_alpha\":{\"value\":0.1},\"hatch_color\":{\"value\":\"#30a2da\"},\"line_alpha\":{\"value\":0.1},\"top\":{\"field\":\"Count\"},\"width\":{\"value\":0.8},\"x\":{\"field\":\"Len_Items\"}},\"id\":\"3002\",\"type\":\"VBar\"},{\"attributes\":{\"bottom\":{\"value\":0},\"fill_alpha\":{\"value\":1.0},\"fill_color\":{\"value\":\"#30a2da\"},\"hatch_alpha\":{\"value\":1.0},\"hatch_color\":{\"value\":\"#30a2da\"},\"hatch_scale\":{\"value\":12.0},\"hatch_weight\":{\"value\":1.0},\"line_alpha\":{\"value\":1.0},\"line_cap\":{\"value\":\"butt\"},\"line_color\":{\"value\":\"black\"},\"line_dash\":{\"value\":[]},\"line_dash_offset\":{\"value\":0},\"line_join\":{\"value\":\"bevel\"},\"line_width\":{\"value\":1},\"top\":{\"field\":\"Count\"},\"width\":{\"value\":0.8},\"x\":{\"field\":\"Len_Items\"}},\"id\":\"3006\",\"type\":\"VBar\"},{\"attributes\":{\"data\":{\"Count\":[378,109,33,23,7,18,8,1],\"Len_Items\":[\"0\",\"1\",\"2\",\"3\",\"4\",\"5\",\"6\",\"7\"]},\"selected\":{\"id\":\"2999\"},\"selection_policy\":{\"id\":\"3020\"}},\"id\":\"2998\",\"type\":\"ColumnDataSource\"},{\"attributes\":{},\"id\":\"3008\",\"type\":\"CategoricalTickFormatter\"},{\"attributes\":{\"children\":[{\"id\":\"2963\"}],\"margin\":[0,0,0,0],\"name\":\"Column04800\"},\"id\":\"2962\",\"type\":\"Column\"},{\"attributes\":{},\"id\":\"2985\",\"type\":\"SaveTool\"},{\"attributes\":{\"factors\":[\"0\",\"1\",\"2\",\"3\",\"4\",\"5\",\"6\",\"7\"],\"tags\":[[[\"Len_Items\",\"Len_Items\",null]]]},\"id\":\"2966\",\"type\":\"FactorRange\"},{\"attributes\":{},\"id\":\"2979\",\"type\":\"CategoricalTicker\"},{\"attributes\":{\"axis\":{\"id\":\"2981\"},\"coordinates\":null,\"dimension\":1,\"grid_line_color\":null,\"group\":null,\"ticker\":null},\"id\":\"2984\",\"type\":\"Grid\"},{\"attributes\":{\"end\":415.7,\"reset_end\":415.7,\"reset_start\":0.0,\"tags\":[[[\"Count\",\"Count\",null]]]},\"id\":\"2967\",\"type\":\"Range1d\"},{\"attributes\":{},\"id\":\"3011\",\"type\":\"BasicTickFormatter\"},{\"attributes\":{\"axis_label\":\"Count\",\"coordinates\":null,\"formatter\":{\"id\":\"3011\"},\"group\":null,\"major_label_policy\":{\"id\":\"3012\"},\"ticker\":{\"id\":\"2982\"}},\"id\":\"2981\",\"type\":\"LinearAxis\"},{\"attributes\":{},\"id\":\"2999\",\"type\":\"Selection\"},{\"attributes\":{\"client_comm_id\":\"499bc381662a4af0ab96ff2405042882\",\"comm_id\":\"bb86d6d448a741aabacc8b46bdd43571\",\"plot_id\":\"2959\"},\"id\":\"3053\",\"type\":\"panel.models.comm_manager.CommManager\"},{\"attributes\":{\"coordinates\":null,\"group\":null,\"text\":\"Depositar\\u8cc7\\u6599\\u96c6\\u542b\\u6709WikidataItem\\u6578\\u91cf\",\"text_color\":\"black\",\"text_font_size\":\"12pt\"},\"id\":\"2970\",\"type\":\"Title\"},{\"attributes\":{\"fill_color\":{\"value\":\"#30a2da\"},\"hatch_color\":{\"value\":\"#30a2da\"},\"top\":{\"field\":\"Count\"},\"width\":{\"value\":0.8},\"x\":{\"field\":\"Len_Items\"}},\"id\":\"3001\",\"type\":\"VBar\"},{\"attributes\":{},\"id\":\"2986\",\"type\":\"PanTool\"},{\"attributes\":{},\"id\":\"2987\",\"type\":\"WheelZoomTool\"},{\"attributes\":{\"end\":2023,\"margin\":[5,10,5,10],\"start\":2019,\"title\":\"Year slider\",\"value\":2020},\"id\":\"2963\",\"type\":\"Slider\"},{\"attributes\":{\"children\":[{\"id\":\"2969\"}],\"margin\":[0,0,0,0],\"name\":\"Row04805\"},\"id\":\"2965\",\"type\":\"Row\"},{\"attributes\":{\"below\":[{\"id\":\"2978\"}],\"center\":[{\"id\":\"2980\"},{\"id\":\"2984\"}],\"height\":300,\"left\":[{\"id\":\"2981\"}],\"margin\":[5,5,5,5],\"min_border_bottom\":10,\"min_border_left\":10,\"min_border_right\":10,\"min_border_top\":10,\"renderers\":[{\"id\":\"3004\"}],\"sizing_mode\":\"fixed\",\"title\":{\"id\":\"2970\"},\"toolbar\":{\"id\":\"2991\"},\"width\":700,\"x_range\":{\"id\":\"2966\"},\"x_scale\":{\"id\":\"2974\"},\"y_range\":{\"id\":\"2967\"},\"y_scale\":{\"id\":\"2976\"}},\"id\":\"2969\",\"subtype\":\"Figure\",\"type\":\"Plot\"},{\"attributes\":{\"coordinates\":null,\"data_source\":{\"id\":\"2998\"},\"glyph\":{\"id\":\"3001\"},\"group\":null,\"hover_glyph\":null,\"muted_glyph\":{\"id\":\"3003\"},\"nonselection_glyph\":{\"id\":\"3002\"},\"selection_glyph\":{\"id\":\"3006\"},\"view\":{\"id\":\"3005\"}},\"id\":\"3004\",\"type\":\"GlyphRenderer\"},{\"attributes\":{\"axis_label\":\"Len_Items\",\"coordinates\":null,\"formatter\":{\"id\":\"3008\"},\"group\":null,\"major_label_policy\":{\"id\":\"3009\"},\"ticker\":{\"id\":\"2979\"}},\"id\":\"2978\",\"type\":\"CategoricalAxis\"},{\"attributes\":{},\"id\":\"2976\",\"type\":\"LinearScale\"},{\"attributes\":{\"tools\":[{\"id\":\"2968\"},{\"id\":\"2985\"},{\"id\":\"2986\"},{\"id\":\"2987\"},{\"id\":\"2988\"},{\"id\":\"2989\"}]},\"id\":\"2991\",\"type\":\"Toolbar\"},{\"attributes\":{\"axis\":{\"id\":\"2978\"},\"coordinates\":null,\"grid_line_color\":null,\"group\":null,\"ticker\":null},\"id\":\"2980\",\"type\":\"Grid\"},{\"attributes\":{},\"id\":\"3012\",\"type\":\"AllLabels\"},{\"attributes\":{\"source\":{\"id\":\"2998\"}},\"id\":\"3005\",\"type\":\"CDSView\"},{\"attributes\":{},\"id\":\"2982\",\"type\":\"BasicTicker\"},{\"attributes\":{\"overlay\":{\"id\":\"2990\"}},\"id\":\"2988\",\"type\":\"BoxZoomTool\"},{\"attributes\":{},\"id\":\"3020\",\"type\":\"UnionRenderers\"},{\"attributes\":{\"children\":[{\"id\":\"2960\"}],\"margin\":[0,0,0,0],\"name\":\"Row04909\"},\"id\":\"2959\",\"type\":\"Row\"},{\"attributes\":{\"fill_alpha\":{\"value\":0.2},\"fill_color\":{\"value\":\"#30a2da\"},\"hatch_alpha\":{\"value\":0.2},\"hatch_color\":{\"value\":\"#30a2da\"},\"line_alpha\":{\"value\":0.2},\"top\":{\"field\":\"Count\"},\"width\":{\"value\":0.8},\"x\":{\"field\":\"Len_Items\"}},\"id\":\"3003\",\"type\":\"VBar\"},{\"attributes\":{\"children\":[{\"id\":\"2961\"},{\"id\":\"2965\"}],\"margin\":[0,0,0,0],\"name\":\"Column04908\"},\"id\":\"2960\",\"type\":\"Column\"}],\"root_ids\":[\"2959\",\"3053\"]},\"title\":\"Bokeh Application\",\"version\":\"2.4.3\"}};\n",
       "    var render_items = [{\"docid\":\"bc97198d-3a18-4ca3-a710-01429daeacb9\",\"root_ids\":[\"2959\"],\"roots\":{\"2959\":\"6b80d747-a5e4-46e5-9038-5d360b71ae0f\"}}];\n",
       "    root.Bokeh.embed.embed_items_notebook(docs_json, render_items);\n",
       "  }\n",
       "  if (root.Bokeh !== undefined && root.Bokeh.Panel !== undefined && ( root['Tabulator'] !== undefined) && ( root['Tabulator'] !== undefined) && ( root['Tabulator'] !== undefined)) {\n",
       "    embed_document(root);\n",
       "  } else {\n",
       "    var attempts = 0;\n",
       "    var timer = setInterval(function(root) {\n",
       "      if (root.Bokeh !== undefined && root.Bokeh.Panel !== undefined && (root['Tabulator'] !== undefined) && (root['Tabulator'] !== undefined) && (root['Tabulator'] !== undefined)) {\n",
       "        clearInterval(timer);\n",
       "        embed_document(root);\n",
       "      } else if (document.readyState == \"complete\") {\n",
       "        attempts++;\n",
       "        if (attempts > 200) {\n",
       "          clearInterval(timer);\n",
       "          console.log(\"Bokeh: ERROR: Unable to run BokehJS code because BokehJS library is missing\");\n",
       "        }\n",
       "      }\n",
       "    }, 25, root)\n",
       "  }\n",
       "})(window);</script>"
      ],
      "text/plain": [
       "<hvplot.interactive.Interactive at 0x7fad9dedd7f0>"
      ]
     },
     "execution_count": 58,
     "metadata": {
      "application/vnd.holoviews_exec.v0+json": {
       "id": "2959"
      }
     },
     "output_type": "execute_result"
    }
   ],
   "source": [
    "bar_plot = bar_pipeline.hvplot(kind='bar', \n",
    "                                x='Len_Items', \n",
    "                                y='Count', \n",
    "                                title=f'Depositar資料集含有WikidataItem數量')\n",
    "\n",
    "bar_plot\n"
   ]
  },
  {
   "cell_type": "code",
   "execution_count": 59,
   "id": "634e7556-ed4c-453a-bf57-80a529f78ad7",
   "metadata": {},
   "outputs": [
    {
     "data": {},
     "metadata": {},
     "output_type": "display_data"
    },
    {
     "data": {
      "application/vnd.holoviews_exec.v0+json": "",
      "text/html": [
       "<div id='3104'>\n",
       "  <div class=\"bk-root\" id=\"8c3f01e1-fbb2-46b3-95fb-d07bcdecabb5\" data-root-id=\"3104\"></div>\n",
       "</div>\n",
       "<script type=\"application/javascript\">(function(root) {\n",
       "  function embed_document(root) {\n",
       "    var docs_json = {\"00477616-90e3-4a1c-b26c-44d115315355\":{\"defs\":[{\"extends\":null,\"module\":null,\"name\":\"ReactiveHTML1\",\"overrides\":[],\"properties\":[]},{\"extends\":null,\"module\":null,\"name\":\"FlexBox1\",\"overrides\":[],\"properties\":[{\"default\":\"flex-start\",\"kind\":null,\"name\":\"align_content\"},{\"default\":\"flex-start\",\"kind\":null,\"name\":\"align_items\"},{\"default\":\"row\",\"kind\":null,\"name\":\"flex_direction\"},{\"default\":\"wrap\",\"kind\":null,\"name\":\"flex_wrap\"},{\"default\":\"flex-start\",\"kind\":null,\"name\":\"justify_content\"}]},{\"extends\":null,\"module\":null,\"name\":\"GridStack1\",\"overrides\":[],\"properties\":[{\"default\":\"warn\",\"kind\":null,\"name\":\"mode\"},{\"default\":null,\"kind\":null,\"name\":\"ncols\"},{\"default\":null,\"kind\":null,\"name\":\"nrows\"},{\"default\":true,\"kind\":null,\"name\":\"allow_resize\"},{\"default\":true,\"kind\":null,\"name\":\"allow_drag\"},{\"default\":[],\"kind\":null,\"name\":\"state\"}]},{\"extends\":null,\"module\":null,\"name\":\"click1\",\"overrides\":[],\"properties\":[{\"default\":\"\",\"kind\":null,\"name\":\"terminal_output\"},{\"default\":\"\",\"kind\":null,\"name\":\"debug_name\"},{\"default\":0,\"kind\":null,\"name\":\"clears\"}]},{\"extends\":null,\"module\":null,\"name\":\"NotificationAreaBase1\",\"overrides\":[],\"properties\":[{\"default\":\"bottom-right\",\"kind\":null,\"name\":\"position\"},{\"default\":0,\"kind\":null,\"name\":\"_clear\"}]},{\"extends\":null,\"module\":null,\"name\":\"NotificationArea1\",\"overrides\":[],\"properties\":[{\"default\":[],\"kind\":null,\"name\":\"notifications\"},{\"default\":\"bottom-right\",\"kind\":null,\"name\":\"position\"},{\"default\":0,\"kind\":null,\"name\":\"_clear\"},{\"default\":[{\"background\":\"#ffc107\",\"icon\":{\"className\":\"fas fa-exclamation-triangle\",\"color\":\"white\",\"tagName\":\"i\"},\"type\":\"warning\"},{\"background\":\"#007bff\",\"icon\":{\"className\":\"fas fa-info-circle\",\"color\":\"white\",\"tagName\":\"i\"},\"type\":\"info\"}],\"kind\":null,\"name\":\"types\"}]},{\"extends\":null,\"module\":null,\"name\":\"Notification\",\"overrides\":[],\"properties\":[{\"default\":null,\"kind\":null,\"name\":\"background\"},{\"default\":3000,\"kind\":null,\"name\":\"duration\"},{\"default\":null,\"kind\":null,\"name\":\"icon\"},{\"default\":\"\",\"kind\":null,\"name\":\"message\"},{\"default\":null,\"kind\":null,\"name\":\"notification_type\"},{\"default\":false,\"kind\":null,\"name\":\"_destroyed\"}]},{\"extends\":null,\"module\":null,\"name\":\"TemplateActions1\",\"overrides\":[],\"properties\":[{\"default\":0,\"kind\":null,\"name\":\"open_modal\"},{\"default\":0,\"kind\":null,\"name\":\"close_modal\"}]},{\"extends\":null,\"module\":null,\"name\":\"MaterialTemplateActions1\",\"overrides\":[],\"properties\":[{\"default\":0,\"kind\":null,\"name\":\"open_modal\"},{\"default\":0,\"kind\":null,\"name\":\"close_modal\"}]}],\"roots\":{\"references\":[{\"attributes\":{\"margin\":[5,5,5,5],\"name\":\"DataFrame04989\",\"text\":\"&lt;table border=&quot;0&quot; class=&quot;dataframe panel-df&quot;&gt;\\n  &lt;thead&gt;\\n    &lt;tr style=&quot;text-align: right;&quot;&gt;\\n      &lt;th&gt;&lt;/th&gt;\\n      &lt;th&gt;Title&lt;/th&gt;\\n      &lt;th&gt;Creator&lt;/th&gt;\\n      &lt;th&gt;Last_modified&lt;/th&gt;\\n      &lt;th&gt;Len_Items&lt;/th&gt;\\n      &lt;th&gt;Items&lt;/th&gt;\\n    &lt;/tr&gt;\\n  &lt;/thead&gt;\\n  &lt;tbody&gt;\\n    &lt;tr&gt;\\n      &lt;th&gt;0&lt;/th&gt;\\n      &lt;td&gt;\\u6eab\\u5bee\\u6eaa\\u9053\\u8def\\u5de5\\u7a0b(\\u5e73\\u9762\\u9053\\u8def\\u5de5\\u53401\\u3001\\u5824\\u9632\\u9053\\u8def\\u3001\\u6a4b\\u6a11\\u5de5\\u53401\\u3001\\u5e73\\u9762\\u9053\\u8def\\u5de5\\u53402\\u3001\\u5e73\\u9762\\u9053\\u8def\\u5de5\\u53404)\\u65bd\\u5de5\\u968e\\u6bb5\\u751f\\u614b\\u6aa2\\u6838\\u6210\\u679c&lt;/td&gt;\\n      &lt;td&gt;dbf82753-0564-4ca2-a855-fa81cb5615d1&lt;/td&gt;\\n      &lt;td&gt;2023&lt;/td&gt;\\n      &lt;td&gt;0&lt;/td&gt;\\n      &lt;td&gt;[]&lt;/td&gt;\\n    &lt;/tr&gt;\\n    &lt;tr&gt;\\n      &lt;th&gt;3&lt;/th&gt;\\n      &lt;td&gt;\\u4e09\\u59d3\\u6eaa\\u6392\\u6c34(\\u6cb3\\u5fc3\\u7d2f\\u8ddd0K+760~0K+800)\\u8b77\\u5cb8\\u6539\\u5584\\u61c9\\u6025\\u5de5\\u7a0b&lt;/td&gt;\\n      &lt;td&gt;dbf82753-0564-4ca2-a855-fa81cb5615d1&lt;/td&gt;\\n      &lt;td&gt;2023&lt;/td&gt;\\n      &lt;td&gt;0&lt;/td&gt;\\n      &lt;td&gt;[]&lt;/td&gt;\\n    &lt;/tr&gt;\\n    &lt;tr&gt;\\n      &lt;th&gt;4&lt;/th&gt;\\n      &lt;td&gt;\\u9ad8\\u96c4\\u5e02\\u592a\\u723a\\u89aa\\u6c34\\u904b\\u52d5\\u516c\\u5712\\u65b0\\u5efa\\u8a08\\u756b&lt;/td&gt;\\n      &lt;td&gt;8bfa12af-2191-4f10-bce5-b9527033ea20&lt;/td&gt;\\n      &lt;td&gt;2023&lt;/td&gt;\\n      &lt;td&gt;0&lt;/td&gt;\\n      &lt;td&gt;[]&lt;/td&gt;\\n    &lt;/tr&gt;\\n    &lt;tr&gt;\\n      &lt;th&gt;8&lt;/th&gt;\\n      &lt;td&gt;\\u77f3\\u9580\\u6c34\\u5eab\\u963f\\u59c6\\u576a\\u9632\\u6de4\\u96a7\\u9053\\u5de5\\u7a0b\\u8a08\\u756b-\\u5927\\u5d59\\u5d01\\u6e05\\u6de4\\u8f38\\u9001\\u7cfb\\u7d71\\u59d4\\u8a17\\u898f\\u756b\\u8a2d\\u8a08\\u76e3\\u9020\\u751f\\u614b\\u6aa2\\u6838-[\\u65bd\\u5de5\\u968e\\u6bb5]&lt;/td&gt;\\n      &lt;td&gt;d405faa0-2237-47d2-a3d0-8f39897280d8&lt;/td&gt;\\n      &lt;td&gt;2023&lt;/td&gt;\\n      &lt;td&gt;0&lt;/td&gt;\\n      &lt;td&gt;[]&lt;/td&gt;\\n    &lt;/tr&gt;\\n    &lt;tr&gt;\\n      &lt;th&gt;18&lt;/th&gt;\\n      &lt;td&gt;\\u7b2c\\u4e8c\\u6b21\\u6d3e\\u5de5&lt;/td&gt;\\n      &lt;td&gt;dbf82753-0564-4ca2-a855-fa81cb5615d1&lt;/td&gt;\\n      &lt;td&gt;2023&lt;/td&gt;\\n      &lt;td&gt;0&lt;/td&gt;\\n      &lt;td&gt;[]&lt;/td&gt;\\n    &lt;/tr&gt;\\n    &lt;tr&gt;\\n      &lt;th&gt;19&lt;/th&gt;\\n      &lt;td&gt;\\u7b2c\\u4e00\\u6b21\\u6d3e\\u5de5&lt;/td&gt;\\n      &lt;td&gt;dbf82753-0564-4ca2-a855-fa81cb5615d1&lt;/td&gt;\\n      &lt;td&gt;2023&lt;/td&gt;\\n      &lt;td&gt;0&lt;/td&gt;\\n      &lt;td&gt;[]&lt;/td&gt;\\n    &lt;/tr&gt;\\n    &lt;tr&gt;\\n      &lt;th&gt;21&lt;/th&gt;\\n      &lt;td&gt;\\u5f70\\u5316\\u7e23eBird\\u6c34\\u9ce5\\u71b1\\u9ede&lt;/td&gt;\\n      &lt;td&gt;7358b0d3-a747-4576-aa94-9a4c1996aa7c&lt;/td&gt;\\n      &lt;td&gt;2023&lt;/td&gt;\\n      &lt;td&gt;0&lt;/td&gt;\\n      &lt;td&gt;[]&lt;/td&gt;\\n    &lt;/tr&gt;\\n    &lt;tr&gt;\\n      &lt;th&gt;22&lt;/th&gt;\\n      &lt;td&gt;\\u5f70\\u5316\\u6cbf\\u6d77\\u77f3\\u84f4\\u5206\\u5e03\\u6f5b\\u52e2\\u5340&lt;/td&gt;\\n      &lt;td&gt;7358b0d3-a747-4576-aa94-9a4c1996aa7c&lt;/td&gt;\\n      &lt;td&gt;2023&lt;/td&gt;\\n      &lt;td&gt;0&lt;/td&gt;\\n      &lt;td&gt;[]&lt;/td&gt;\\n    &lt;/tr&gt;\\n    &lt;tr&gt;\\n      &lt;th&gt;23&lt;/th&gt;\\n      &lt;td&gt;\\u300c\\u66fe\\u6587\\u6eaa\\u9752\\u8349\\u5d19\\u5824\\u9632(L15~L18)\\u6574\\u5efa\\u5de5\\u7a0b\\u300d\\u65bd\\u5de5\\u968e\\u6bb5\\u751f\\u614b\\u7a3d\\u6838&lt;/td&gt;\\n      &lt;td&gt;b921b80f-2fef-4551-a2b3-5b252a84ec1d&lt;/td&gt;\\n      &lt;td&gt;2023&lt;/td&gt;\\n      &lt;td&gt;0&lt;/td&gt;\\n      &lt;td&gt;[]&lt;/td&gt;\\n    &lt;/tr&gt;\\n    &lt;tr&gt;\\n      &lt;th&gt;27&lt;/th&gt;\\n      &lt;td&gt;\\u65b0\\u7af9\\u5e02110~111 \\uf98e\\ufa01\\u751f\\u614b\\u6aa2\\u6838\\u53ca\\u6c11\\u773e \\uf96b\\u8207\\u59d4\\u8a17\\u670d\\u52d9\\u6848(\\u958b\\u53e3\\uf909\\u7d04)\\u6210\\u679c\\u5831\\u544a\\u66f8&lt;/td&gt;\\n      &lt;td&gt;dbf82753-0564-4ca2-a855-fa81cb5615d1&lt;/td&gt;\\n      &lt;td&gt;2023&lt;/td&gt;\\n      &lt;td&gt;0&lt;/td&gt;\\n      &lt;td&gt;[]&lt;/td&gt;\\n    &lt;/tr&gt;\\n  &lt;/tbody&gt;\\n&lt;/table&gt;\",\"width\":600},\"id\":\"3111\",\"type\":\"panel.models.markup.HTML\"},{\"attributes\":{\"children\":[{\"id\":\"3106\"},{\"id\":\"3110\"}],\"margin\":[0,0,0,0],\"name\":\"Column04993\"},\"id\":\"3105\",\"type\":\"Column\"},{\"attributes\":{\"margin\":[5,5,5,5],\"name\":\"HSpacer04991\",\"sizing_mode\":\"stretch_width\"},\"id\":\"3109\",\"type\":\"Spacer\"},{\"attributes\":{\"client_comm_id\":\"6c42eb6167c5464e8a539fd956a0735b\",\"comm_id\":\"66ae41a4732c4327a9eb598d4fced449\",\"plot_id\":\"3104\"},\"id\":\"3112\",\"type\":\"panel.models.comm_manager.CommManager\"},{\"attributes\":{\"children\":[{\"id\":\"3108\"}],\"margin\":[0,0,0,0],\"name\":\"Column04974\"},\"id\":\"3107\",\"type\":\"Column\"},{\"attributes\":{\"margin\":[5,10,5,10],\"options\":[\"0\",\"1\",\"2\",\"3\",\"4\",\"5\",\"6\",\"7\",\"8\",\"9\",\"10\",\"11\",\"12\",\"13\",\"14\",\"15\",\"16\"],\"title\":\"Num of Wikidata_item in Depositar\",\"value\":\"0\"},\"id\":\"3108\",\"type\":\"panel.models.widgets.CustomSelect\"},{\"attributes\":{\"children\":[{\"id\":\"3107\"},{\"id\":\"3109\"}],\"margin\":[0,0,0,0],\"name\":\"Row04992\"},\"id\":\"3106\",\"type\":\"Row\"},{\"attributes\":{\"children\":[{\"id\":\"3111\"}],\"margin\":[0,0,0,0],\"min_width\":600,\"name\":\"Row04979\",\"width\":600},\"id\":\"3110\",\"type\":\"Row\"},{\"attributes\":{\"children\":[{\"id\":\"3105\"}],\"margin\":[0,0,0,0],\"name\":\"Row04994\"},\"id\":\"3104\",\"type\":\"Row\"}],\"root_ids\":[\"3104\",\"3112\"]},\"title\":\"Bokeh Application\",\"version\":\"2.4.3\"}};\n",
       "    var render_items = [{\"docid\":\"00477616-90e3-4a1c-b26c-44d115315355\",\"root_ids\":[\"3104\"],\"roots\":{\"3104\":\"8c3f01e1-fbb2-46b3-95fb-d07bcdecabb5\"}}];\n",
       "    root.Bokeh.embed.embed_items_notebook(docs_json, render_items);\n",
       "  }\n",
       "  if (root.Bokeh !== undefined && root.Bokeh.Panel !== undefined && ( root['Tabulator'] !== undefined) && ( root['Tabulator'] !== undefined) && ( root['Tabulator'] !== undefined)) {\n",
       "    embed_document(root);\n",
       "  } else {\n",
       "    var attempts = 0;\n",
       "    var timer = setInterval(function(root) {\n",
       "      if (root.Bokeh !== undefined && root.Bokeh.Panel !== undefined && (root['Tabulator'] !== undefined) && (root['Tabulator'] !== undefined) && (root['Tabulator'] !== undefined)) {\n",
       "        clearInterval(timer);\n",
       "        embed_document(root);\n",
       "      } else if (document.readyState == \"complete\") {\n",
       "        attempts++;\n",
       "        if (attempts > 200) {\n",
       "          clearInterval(timer);\n",
       "          console.log(\"Bokeh: ERROR: Unable to run BokehJS code because BokehJS library is missing\");\n",
       "        }\n",
       "      }\n",
       "    }, 25, root)\n",
       "  }\n",
       "})(window);</script>"
      ],
      "text/plain": [
       "<hvplot.interactive.Interactive at 0x7fad9dfa3d90>"
      ]
     },
     "execution_count": 59,
     "metadata": {
      "application/vnd.holoviews_exec.v0+json": {
       "id": "3104"
      }
     },
     "output_type": "execute_result"
    }
   ],
   "source": [
    "NumofItem = [0, 1, 2, 3, 4, 5, 6, 7,8,9,10, 11, 12, 13, 14, 15, 16]\n",
    "ticker = pn.widgets.Select(options=NumofItem, name='Num of Wikidata_item in Depositar')\n",
    "\n",
    "def num_df(ticker):\n",
    "    df_0 = pd.DataFrame(df[df[\"Len_Items\"] == ticker])\n",
    "    return df_0\n",
    "\n",
    "stock_dfi = hvplot.bind(num_df, ticker).interactive(width=600)\n",
    "\n",
    "stock_dfi.head(10)"
   ]
  },
  {
   "cell_type": "code",
   "execution_count": 61,
   "id": "882ccf73-a9dd-4e27-b476-4448cfcba62e",
   "metadata": {},
   "outputs": [],
   "source": [
    "#Layout using Template\n",
    "template = pn.template.FastListTemplate(\n",
    "    title='World CO2 emission dashboard', \n",
    "    sidebar=[pn.pane.Markdown(\"# CO2 Emissions and Climate Change\"), \n",
    "             pn.pane.Markdown(\"#### Carbon dioxide emissions are the primary driver of global climate change. It’s widely recognised that to avoid the worst impacts of climate change, the world needs to urgently reduce emissions. But, how this responsibility is shared between regions, countries, and individuals has been an endless point of contention in international discussions.\"), \n",
    "             pn.pane.Markdown(\"## Settings\"),   \n",
    "             year_slider],\n",
    "    main=[pn.Row(pn.Column(bar_plot.panel(width=700), margin=(0,25))\n",
    "                 ), \n",
    "          pn.Row(pn.Column(stock_dfi.head(10).panel(width=600), margin=(0,25))\n",
    "                 )],\n",
    "    accent_base_color=\"#88d8b0\",\n",
    "    header_background=\"#88d8b0\",\n",
    ")\n",
    "# template.show()\n",
    "template.servable();\n"
   ]
  },
  {
   "cell_type": "code",
   "execution_count": null,
   "id": "dff5457c-15fa-4fa6-9d6c-954989e4640c",
   "metadata": {},
   "outputs": [],
   "source": []
  }
 ],
 "metadata": {
  "kernelspec": {
   "display_name": "Python 3 (ipykernel)",
   "language": "python",
   "name": "python3"
  },
  "language_info": {
   "codemirror_mode": {
    "name": "ipython",
    "version": 3
   },
   "file_extension": ".py",
   "mimetype": "text/x-python",
   "name": "python",
   "nbconvert_exporter": "python",
   "pygments_lexer": "ipython3",
   "version": "3.9.13"
  }
 },
 "nbformat": 4,
 "nbformat_minor": 5
}
